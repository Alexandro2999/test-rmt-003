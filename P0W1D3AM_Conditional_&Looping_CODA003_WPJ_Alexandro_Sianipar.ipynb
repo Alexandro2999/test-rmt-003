{
  "nbformat": 4,
  "nbformat_minor": 0,
  "metadata": {
    "colab": {
      "provenance": [],
      "toc_visible": true
    },
    "kernelspec": {
      "name": "python3",
      "display_name": "Python 3"
    },
    "language_info": {
      "name": "python"
    }
  },
  "cells": [
    {
      "cell_type": "markdown",
      "source": [
        "# LATIHAN - P0W1D3AM: Conditional_&Looping_CODA003"
      ],
      "metadata": {
        "id": "3Sb0xDNdEapb"
      }
    },
    {
      "cell_type": "code",
      "source": [
        "a = 100\n",
        "b = 200\n",
        "if a < b:\n",
        "  print('a lebih kecil dari b')"
      ],
      "metadata": {
        "colab": {
          "base_uri": "https://localhost:8080/"
        },
        "id": "FhnnNO7NErhM",
        "outputId": "224b483d-84fd-4ba2-d307-fe1e45a3276d"
      },
      "execution_count": 12,
      "outputs": [
        {
          "output_type": "stream",
          "name": "stdout",
          "text": [
            "a lebih kecil dari b\n"
          ]
        }
      ]
    },
    {
      "cell_type": "code",
      "source": [
        "a = 100\n",
        "b = 200\n",
        "if a > b:\n",
        "  print('a lebih besar dari b')"
      ],
      "metadata": {
        "id": "ibLxVORJIAd2"
      },
      "execution_count": 3,
      "outputs": []
    },
    {
      "cell_type": "code",
      "source": [
        "a = 'januari'\n",
        "b = 'februari'\n",
        "if a != b:\n",
        "  print('a tidak sama dengan b')\n",
        "else:\n",
        "  print('a sama dengan b')"
      ],
      "metadata": {
        "colab": {
          "base_uri": "https://localhost:8080/"
        },
        "id": "2JZlHNu7IRJx",
        "outputId": "f2bfbe8f-eba7-4460-ba04-b084fc2c26e1"
      },
      "execution_count": 7,
      "outputs": [
        {
          "output_type": "stream",
          "name": "stdout",
          "text": [
            "a tidak sama dengan b\n"
          ]
        }
      ]
    },
    {
      "cell_type": "code",
      "source": [
        "a = 1000\n",
        "b = 1000.0\n",
        "if a == b:\n",
        "  print()\n",
        "else:\n",
        "  print('a tidak sama dengan b')"
      ],
      "metadata": {
        "colab": {
          "base_uri": "https://localhost:8080/"
        },
        "id": "H4JWtNj_I-63",
        "outputId": "d192bedb-e4c0-4ac9-cb01-dd5a4f61f163"
      },
      "execution_count": 10,
      "outputs": [
        {
          "output_type": "stream",
          "name": "stdout",
          "text": [
            "\n"
          ]
        }
      ]
    },
    {
      "cell_type": "code",
      "source": [
        "a = {'angka_ganjil' : [1, 3, 5, 7]}\n",
        "b = {'angka_genap' : [2, 4, 6, 8]}\n",
        "if a != b:\n",
        "     print('a berbeda dengan b')\n",
        "else:\n",
        "     print('a sama dengan b')\n"
      ],
      "metadata": {
        "colab": {
          "base_uri": "https://localhost:8080/"
        },
        "id": "CbNNauAwKUjN",
        "outputId": "c60d3250-c88f-415a-f9d0-351a9c81c670"
      },
      "execution_count": 16,
      "outputs": [
        {
          "output_type": "stream",
          "name": "stdout",
          "text": [
            "a berbeda dengan b\n"
          ]
        }
      ]
    },
    {
      "cell_type": "code",
      "source": [
        "pendidikan = 's1'\n",
        "daftar_pendidikan = ['s1', 's2', 's3']\n",
        "if pendidikan in daftar_pendidikan:\n",
        "  print('merupakan bagian')\n",
        "else:\n",
        "  print('bukan merupakan bagian')\n",
        "\n",
        "nama = 'budi'\n",
        "nama_lengkap = 'budi kurniawan'\n",
        "if nama in nama_lengkap:\n",
        "  print('merupakan bagian')\n",
        "else:\n",
        "  print('bukan merupakan bagian')"
      ],
      "metadata": {
        "colab": {
          "base_uri": "https://localhost:8080/"
        },
        "id": "yLkWVd6MQO-j",
        "outputId": "8ef709b6-1a5a-4fdf-b763-b4dfc0c1c58e"
      },
      "execution_count": 19,
      "outputs": [
        {
          "output_type": "stream",
          "name": "stdout",
          "text": [
            "merupakan bagian\n",
            "merupakan bagian\n"
          ]
        }
      ]
    },
    {
      "cell_type": "code",
      "source": [
        "a = 100\n",
        "b = 100\n",
        "if a < b:\n",
        "  print('a lebih kecil dari b')\n",
        "elif a > b:\n",
        "  print('a lebih besar dari b')\n",
        "else:\n",
        "  print('a sama dengan b')"
      ],
      "metadata": {
        "colab": {
          "base_uri": "https://localhost:8080/"
        },
        "id": "BuOV5gtDQ6o6",
        "outputId": "6d756e8a-6e55-4136-ff4d-597172e674d2"
      },
      "execution_count": 20,
      "outputs": [
        {
          "output_type": "stream",
          "name": "stdout",
          "text": [
            "a sama dengan b\n"
          ]
        }
      ]
    },
    {
      "cell_type": "code",
      "source": [
        "uang = 13000\n",
        "if uang >= 15000:\n",
        "  print('nasi goreng')\n",
        "elif uang >= 10000 and uang < 15000:\n",
        "  print('ketoprak')\n",
        "elif uang >= 5000 and uang < 10000:\n",
        "  print('batagor')\n",
        "elif uang < 5000:\n",
        "  print('es teh manis')"
      ],
      "metadata": {
        "colab": {
          "base_uri": "https://localhost:8080/"
        },
        "id": "T2S7XLv2RQS3",
        "outputId": "ea0f5a1a-5c17-40ed-c911-801a51e1c44b"
      },
      "execution_count": 21,
      "outputs": [
        {
          "output_type": "stream",
          "name": "stdout",
          "text": [
            "ketoprak\n"
          ]
        }
      ]
    },
    {
      "cell_type": "code",
      "source": [
        "print('hello '*5)"
      ],
      "metadata": {
        "colab": {
          "base_uri": "https://localhost:8080/"
        },
        "id": "3Uaa2jeHSbxW",
        "outputId": "69330a23-975c-480d-eb3a-2193e20998ed"
      },
      "execution_count": 23,
      "outputs": [
        {
          "output_type": "stream",
          "name": "stdout",
          "text": [
            "hello hello hello hello hello \n"
          ]
        }
      ]
    },
    {
      "cell_type": "code",
      "source": [
        "list(range(6))"
      ],
      "metadata": {
        "colab": {
          "base_uri": "https://localhost:8080/"
        },
        "id": "0yWz3FYJVpBr",
        "outputId": "ac849a03-8261-43db-85a2-269f4247d9df"
      },
      "execution_count": 8,
      "outputs": [
        {
          "output_type": "execute_result",
          "data": {
            "text/plain": [
              "[0, 1, 2, 3, 4, 5]"
            ]
          },
          "metadata": {},
          "execution_count": 8
        }
      ]
    },
    {
      "cell_type": "code",
      "source": [
        "list(range)"
      ],
      "metadata": {
        "id": "e59h7hoHoyOb"
      },
      "execution_count": null,
      "outputs": []
    },
    {
      "cell_type": "code",
      "source": [
        "list(range(1,13,3))"
      ],
      "metadata": {
        "colab": {
          "base_uri": "https://localhost:8080/"
        },
        "id": "uTpHcLEkpl6N",
        "outputId": "c6248b71-1f45-44cf-b107-9800a96cbf12"
      },
      "execution_count": 7,
      "outputs": [
        {
          "output_type": "execute_result",
          "data": {
            "text/plain": [
              "[1, 4, 7, 10]"
            ]
          },
          "metadata": {},
          "execution_count": 7
        }
      ]
    },
    {
      "cell_type": "code",
      "source": [
        "for i in range(1, 11):\n",
        "  print(i)\n",
        "  if i == 8:\n",
        "    break\n",
        ""
      ],
      "metadata": {
        "colab": {
          "base_uri": "https://localhost:8080/"
        },
        "id": "nKLY7nujqHJm",
        "outputId": "cb505263-f4cd-4d90-fa56-b0968b4cb0ae"
      },
      "execution_count": 28,
      "outputs": [
        {
          "output_type": "stream",
          "name": "stdout",
          "text": [
            "1\n",
            "2\n",
            "3\n",
            "4\n",
            "5\n",
            "6\n",
            "7\n",
            "8\n"
          ]
        }
      ]
    },
    {
      "cell_type": "code",
      "source": [
        "for i in range(1, 11):\n",
        "  if i % 2 == 0 and i <= 6:\n",
        "    print(i, end=',')"
      ],
      "metadata": {
        "colab": {
          "base_uri": "https://localhost:8080/"
        },
        "id": "WkCGlQPYuuoj",
        "outputId": "c21ecf80-dcc9-4ced-c860-8fc850f5f4ab"
      },
      "execution_count": 22,
      "outputs": [
        {
          "output_type": "stream",
          "name": "stdout",
          "text": [
            "2,4,6,"
          ]
        }
      ]
    },
    {
      "cell_type": "code",
      "source": [
        "daftar_nama = ['anwar', 'budi', 'cecep', 'deny']\n",
        "\n",
        "for nama in daftar_nama:\n",
        "  print(nama)"
      ],
      "metadata": {
        "colab": {
          "base_uri": "https://localhost:8080/"
        },
        "id": "ocYqEjqzwAb1",
        "outputId": "3ece757b-b036-4e9c-afba-63d49e81ffca"
      },
      "execution_count": 29,
      "outputs": [
        {
          "output_type": "stream",
          "name": "stdout",
          "text": [
            "anwar\n",
            "budi\n",
            "cecep\n",
            "deny\n"
          ]
        }
      ]
    }
  ]
}